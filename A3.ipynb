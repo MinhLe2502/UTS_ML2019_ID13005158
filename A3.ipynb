{
  "nbformat": 4,
  "nbformat_minor": 0,
  "metadata": {
    "colab": {
      "name": "A3.ipynb",
      "provenance": [],
      "include_colab_link": true
    },
    "kernelspec": {
      "name": "python3",
      "display_name": "Python 3"
    }
  },
  "cells": [
    {
      "cell_type": "markdown",
      "metadata": {
        "id": "view-in-github",
        "colab_type": "text"
      },
      "source": [
        "<a href=\"https://colab.research.google.com/github/MinhLe2502/UTS_ML2019_ID13005158/blob/master/A3.ipynb\" target=\"_parent\"><img src=\"https://colab.research.google.com/assets/colab-badge.svg\" alt=\"Open In Colab\"/></a>"
      ]
    },
    {
      "cell_type": "markdown",
      "metadata": {
        "id": "XM-n4gQ6wyB2",
        "colab_type": "text"
      },
      "source": [
        "#***Assessment 3: Take Home Exam***"
      ]
    },
    {
      "cell_type": "markdown",
      "metadata": {
        "id": "_5d8_QIxyACE",
        "colab_type": "text"
      },
      "source": [
        "Name: Quang Nhat Minh Le\n",
        "\n",
        "ID:13005158"
      ]
    },
    {
      "cell_type": "markdown",
      "metadata": {
        "id": "68vAZl8TyCen",
        "colab_type": "text"
      },
      "source": [
        "**Question 3:**\n",
        "Marketing or advertising companies would be very interested in being able to predict a Twitter message will spread as a meme or not, and even better, construct it so that it will spread. \n",
        "> Why is this a hard problem to solve?\n",
        "\n",
        "> Describe two approaches using data analytics to predict whether a tweet will go viral or not. How would you validate these approaches? \n",
        "\n",
        ">Discuss the ethical and social consequence of this study."
      ]
    },
    {
      "cell_type": "markdown",
      "metadata": {
        "id": "BXErz5mjzwn9",
        "colab_type": "text"
      },
      "source": [
        "##**Introduction**"
      ]
    },
    {
      "cell_type": "markdown",
      "metadata": {
        "id": "OE8VUjYZ22H1",
        "colab_type": "text"
      },
      "source": [
        "    In 1989, Dawkins had stated in his article \"The Selfish Gene.\", a meme is a piece of idea, behaviour, information what shares among people. However, nowadays, a meme is currently known as a concept or a catchphrase which spread from one to another person through social networks, community, forums or blogs. Memes also share common characteristics with infectious diseases because just from one person, a meme could be share with many different people."
      ]
    },
    {
      "cell_type": "markdown",
      "metadata": {
        "id": "31tRdArdW90b",
        "colab_type": "text"
      },
      "source": [
        "##**What's Make A Meme Go Viral**"
      ]
    },
    {
      "cell_type": "markdown",
      "metadata": {
        "id": "bpymDQxgXDEm",
        "colab_type": "text"
      },
      "source": [
        "    A meme becomes viral when its appeal to many people and make them share it on the internet. Also, sharing on the internet is a lot like other kinds of social sharing. However, sharing through the internet or social sharing are both affected by emotion. Emotionally positive articles were likely to be shared than those that were emotionally negative. However, a very negative article was more likely to be shared than the one that was only mildly positive. So, article sharing not only affected by positive or negative emotion but also, how arousing that emotion was. Also, humans tend to make decisions base on other people decision instead of gather information then make your own decision, so when one person said the meme was good, then some other person will agree with that, then it will continue and make the meme go viral."
      ]
    },
    {
      "cell_type": "markdown",
      "metadata": {
        "id": "8OHTXXh2uNPg",
        "colab_type": "text"
      },
      "source": [
        "##**Why Is Predicting If The Meme Become Viral or Not Is a Hard Problem To Solve?**"
      ]
    },
    {
      "cell_type": "markdown",
      "metadata": {
        "id": "Lae3wNHqupoG",
        "colab_type": "text"
      },
      "source": [
        "    Predciting if the meme become viral or not is hard problem due to many factors\n",
        "    "
      ]
    },
    {
      "cell_type": "markdown",
      "metadata": {
        "id": "g_acgbf0yNk9",
        "colab_type": "text"
      },
      "source": [
        "    The first factor is user behaviour and characteristics. By reducing user attention to a meme can increase the competition between memes and decrease the meme's popularity and lifespan. Furthermore, a person's characteristics can also affect the meme's popularity.\n",
        "    \n",
        "    Also, memes and underlaying network's structure have a deep relationship with each other. They both have an impact on each other on the spreading process. Due to the existence of hub and dense subgrades called 'communities', the information flow and the meme spreading is being constraint.\n",
        "    \n",
        "    Furthermore, the meme's spread is considered as social contagion, also known as the information or behaviour sharing \n",
        "    "
      ]
    }
  ]
}