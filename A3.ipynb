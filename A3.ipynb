{
  "nbformat": 4,
  "nbformat_minor": 0,
  "metadata": {
    "colab": {
      "name": "A3.ipynb",
      "provenance": [],
      "collapsed_sections": [],
      "include_colab_link": true
    },
    "kernelspec": {
      "name": "python3",
      "display_name": "Python 3"
    }
  },
  "cells": [
    {
      "cell_type": "markdown",
      "metadata": {
        "id": "view-in-github",
        "colab_type": "text"
      },
      "source": [
        "<a href=\"https://colab.research.google.com/github/MinhLe2502/UTS_ML2019_ID13005158/blob/master/A3.ipynb\" target=\"_parent\"><img src=\"https://colab.research.google.com/assets/colab-badge.svg\" alt=\"Open In Colab\"/></a>"
      ]
    },
    {
      "cell_type": "markdown",
      "metadata": {
        "id": "XM-n4gQ6wyB2",
        "colab_type": "text"
      },
      "source": [
        "#***Assessment 3: Take Home Exam***"
      ]
    },
    {
      "cell_type": "markdown",
      "metadata": {
        "id": "_5d8_QIxyACE",
        "colab_type": "text"
      },
      "source": [
        "Name: Quang Nhat Minh Le\n",
        "\n",
        "ID:13005158"
      ]
    },
    {
      "cell_type": "markdown",
      "metadata": {
        "id": "68vAZl8TyCen",
        "colab_type": "text"
      },
      "source": [
        "**Question 3:**\n",
        "Marketing or advertising companies would be very interested in being able to predict a Twitter message will spread as a meme or not, and even better, construct it so that it will spread. \n",
        "> Why is this a hard problem to solve?\n",
        "\n",
        "> Describe two approaches using data analytics to predict whether a tweet will go viral or not. How would you validate these approaches? \n",
        "\n",
        ">Discuss the ethical and social consequence of this study."
      ]
    },
    {
      "cell_type": "markdown",
      "metadata": {
        "id": "BXErz5mjzwn9",
        "colab_type": "text"
      },
      "source": [
        "##**Introduction**"
      ]
    },
    {
      "cell_type": "markdown",
      "metadata": {
        "id": "OE8VUjYZ22H1",
        "colab_type": "text"
      },
      "source": [
        "In 1989, Dawkins had stated in his article \"The Selfish Gene.\", that a meme is a piece of idea, behaviour, information which is shareed among people. However, nowadays, a meme is currently known as a concept or a catchphrase which spread from one to another person through social networks, community, forums or blogs. Memes also share common characteristics with infectious diseases because just from one person, a meme could be share with many different people."
      ]
    },
    {
      "cell_type": "markdown",
      "metadata": {
        "id": "31tRdArdW90b",
        "colab_type": "text"
      },
      "source": [
        "##**What's Make A Meme Go Viral**"
      ]
    },
    {
      "cell_type": "markdown",
      "metadata": {
        "id": "bpymDQxgXDEm",
        "colab_type": "text"
      },
      "source": [
        "A meme becomes viral when its appeal to many people and make them share it on the internet. Also, sharing on the internet is a lot like other kinds of social sharing. However, sharing through the internet or social sharing are both affected by emotion. Emotionally positive articles were likely to be shared than those that were emotionally negative. Furthermore, a very negative article was more likely to be shared than the one that was only mildly positive. Because negaive emotions give more impact on people, rather than positive ones. So sharing article do not affect people through giving positive or negative emotions, but also through the level of arousing that emotion is. Also, humans tend to make decisions based on other people decision instead of gathering information then make your own decision. So when one person said the meme was good, then another person will agree with that, then it will continue and make the meme go viral.\n",
        "\n"
      ]
    },
    {
      "cell_type": "markdown",
      "metadata": {
        "id": "8OHTXXh2uNPg",
        "colab_type": "text"
      },
      "source": [
        "##**Why Is Predicting If The Meme Become Viral or Not Is a Hard Problem To Solve?**"
      ]
    },
    {
      "cell_type": "markdown",
      "metadata": {
        "id": "Lae3wNHqupoG",
        "colab_type": "text"
      },
      "source": [
        "Predciting if the meme become viral or not is hard problem due to many factors\n",
        "    "
      ]
    },
    {
      "cell_type": "markdown",
      "metadata": {
        "id": "g_acgbf0yNk9",
        "colab_type": "text"
      },
      "source": [
        "The first factor is user behaviour and characteristics. By reducing user attention to a meme can increase the competition between memes and decrease the meme's popularity and lifespan. Furthermore, a person's characteristics can also affect the meme's popularity.\n",
        "    \n",
        "Also, memes and underlaying network's structure have a deep relationship with each other. They both have an impact on each other on the spreading process. Due to the existence of hub and dense subgrades called 'communities', the information flow and the meme spreading is being constraint.\n",
        "    \n",
        "Furthermore, the meme's spread is considered as social contagion, also known as where the user will be the catalyst to initiate the action on the sharing of information and behaviour on a social network. However, disease and information are two different entity which makes their spreading also different. So, the meme's spreading speed depends on social ties properties. Spreading meme with strong social ties is more effective than small ties, while small ties are for transmitting new information.\n",
        "   \n",
        "    \n",
        "    "
      ]
    },
    {
      "cell_type": "markdown",
      "metadata": {
        "id": "-ikSItigSwAI",
        "colab_type": "text"
      },
      "source": [
        "##**Two Approaches**"
      ]
    },
    {
      "cell_type": "markdown",
      "metadata": {
        "id": "vCxy_pzfSz5s",
        "colab_type": "text"
      },
      "source": [
        "###**Time series analysis and Feature-based classification.**"
      ]
    },
    {
      "cell_type": "markdown",
      "metadata": {
        "id": "bBOgi426Tpif",
        "colab_type": "text"
      },
      "source": [
        "Time series analysis explores the fluctuation of interaction between user and the meme. Future-base classification aim is to explore the differences in characteristics of different popular memes. This approach is demostrated through three different aspects:audience size and user neighbours, how fast the meme is spreading. This approach use a dataset from Twitter because Twitter  consists of a big amount of memes and a concrete network structure to share and spread the meme.\n",
        "    \n",
        "First, the user calculate the time difference between the first tweet and the n-th tweet to explore the meme growth rate (figure 1)\n",
        "    \n",
        ">$t_n^h - t_1^h$\n",
        "    \n",
        "<img src=\"https://github.com/MinhLe2502/UTS_ML2019_ID13005158/raw/master/3-1.png\" height=\"200\" width=\"520\"/> \n",
        "   \n",
        "   \n",
        "Figure 1. The relationship between the meme popularity measured in the number of tweets, |T(h)|, and adopters,|A(h)|, and the early spreading time with n = 50, $t_50^h - t_1^h$ 1seconds. (Wang et al. 2014)\n",
        "   \n",
        "Then measure the time difference between each consecutive tweet with the formula:\n",
        "\n",
        ">$t_{i+1}^h - t_i^h$\n",
        "\n",
        "The formula can be implemented using two predicitons features\n",
        "    \n",
        "**Average Step time duration**\n",
        "    \n",
        "> $\\Delta t_n(h) = \\frac{\\sum_{i=1}^{n-1} t_{i+1}^h}{n-1}=\\frac{t_n^h - t_1^h}{n-1}$\n",
        "\n",
        "**CV of step time duration**\n",
        "    \n",
        "> $C_v(\\Delta t_n(h))= \\frac{1}{\\Delta t_n(h)}* (\\frac{sum_{i=1}^{n-1} (t_{i+1}^h-t_i^h-\\Delta t_n(h))^2}{n-2})^\\frac{1}{2}$\n",
        "\n",
        "The meme dataset was divided into five different sections based on popularity. By measuring precision and recall the writer had found that, the early stage popularity of a meme does not guarantee a future popularity. The writer had to define early popular is $|T^T|$, and later popularity is $|T|$. Figure 2 show example of *#FavFemaleSinger* and *#InvisibleChildren*.\n",
        "    \n",
        "<img src=\"https://github.com/MinhLe2502/UTS_ML2019_ID13005158/raw/master/3_2.png\" height=\"200\" width=\"520\"/> \n",
        "\n",
        "Figure 2. (a) Scatter plot of early popularity T' versus T for each meme; the black dashed line is the regression line by the LN model. (b) Cumulative popularity for two hashtags, *#FavFemaleSinger* and *#InvisibleChildren*. (Wang et al. 2014).\n",
        "\n",
        "The writer defined $F_1$ as the scores of different models for predicting the future usage or adopter popularity (Wang et al. 2014). \n",
        "\n",
        ">$F_1 = \\frac{2*precision*recall}{presision+recall}$\n",
        "\n",
        "The value of F1 is between 0 and 1, with the value to 1, the meme has higher chance to become viral(Figure 3). Furthermore, to validate Network-based Prediction Model $(P_n)$, the writer also applied 10-fold cross validation to validate how each of the sections perform and how was it F1 value\n",
        "\n",
        "<img src=\"https://github.com/MinhLe2502/UTS_ML2019_ID13005158/raw/master/3_3.png\" height=\"800\" width=\"400\"/> \n",
        "\n",
        "Figure 3. F1 scores of the prediction models, demonstrate the results using the Infomap community detection method; link clustering yields\n",
        "similar results (Wang et al., 2014)\n"
      ]
    },
    {
      "cell_type": "markdown",
      "metadata": {
        "id": "W634HeDDd2Tn",
        "colab_type": "text"
      },
      "source": [
        "###**CrowdCast**"
      ]
    },
    {
      "cell_type": "markdown",
      "metadata": {
        "id": "FMd1n_SMeDV8",
        "colab_type": "text"
      },
      "source": [
        "CrownCast is a cloud-based platform. CrownCast works based on observation of Twitter’s tweet then predicts whether if it virallity.\n",
        "\n",
        "CrownCast works through opening a TCP connection to Twitter’s public API. CrownCast checks the tweet's original content, the neighbours and the tweet's owner. Then apply automated training and classfication to label the tweet. \n",
        "\n",
        "CrownCast visualize a Twitter tweet as a star-like or tree graph(Figure 4).  Then, by applying a power law: $P(x) \\alpha x^ {-\\beta}$, where P(x) is the  factions scale on x.  According to Jain P. and Manweiler J. (2014), if $2<\\beta<3$ then average path length may be estimated when $\\beta >= 2$(figure 5).\n",
        "\n",
        "<img src=\"https://github.com/MinhLe2502/UTS_ML2019_ID13005158/raw/master/3_4.png\" height=\"300\" width=\"520\"/> \n",
        "\n",
        "Figure 4. Twitter activity graph constructed for a single viral video. Note the tree-like structure expanding over time.(Jain P. and Manweiler J. 2014)\n",
        "\n",
        "<img src=\"https://github.com/MinhLe2502/UTS_ML2019_ID13005158/raw/master/3_5.png\" height=\"300\" width=\"520\"/> \n",
        "\n",
        "Figure 5. β distribution for activity graphs. For 2 < β < 3(≈ 65%), average path length may be estimated accurately(Jain P. and Manweiler J. 2014)\n",
        "\n",
        "The writer has considered a viral meme  when its retweet increasing 500-fold in less than 24 hours. By using NodeCount to count the number of views and AverageDistance as the activity of the tweet, then rank video based on formula $\\frac{NODECOUNT * AVERAGEDISTANCE}{\\sum_{\\forall i}p_i}$, where $p_i$ denotes the PageRank of activity graph vertex i.\n",
        "\n",
        "By defined Y as the set of all tweet. V $\\subset$ Y is the set which will become viral. P $\\subset$ Y is the set which CrownCast predict will go viral.V\\P denotes CrowdCast’s false negative predictions, P\\V denotes CrowdCast’s false positive and Y\\V denotes the set of videos which did not go viral. Figure 6 has evaluated CrownCast’s predictions with the following metric.\n",
        "\n",
        "\n",
        "\n",
        "<img src=\"https://github.com/MinhLe2502/UTS_ML2019_ID13005158/raw/master/3_6.png\" height=\"320\" width=\"400\"/> \n",
        "\n",
        "Figure 6. CrownCast’s prediction evaluation through standard metrics (Jain P. and Manweiler J. 2014).\n",
        "\n",
        "\n",
        "CrownCast tests on 30 independent trials. The test used 500 videos. After 48 hours, videos with more than 500000 views are considered true positive, less than 500000 views are false positives, have 1000 to 500000 views are false negative and less than 1000 views are real negative(Figure 7)\n",
        "\n",
        "<img src=\"https://github.com/MinhLe2502/UTS_ML2019_ID13005158/raw/master/3_7.png\" height=\"450\" width=\"1000\"/> \n",
        "\n",
        "Figure 7. CrowdCast predicts about 50% of the videos which become viral (RECALL), with about\n",
        "two false positives for every true positive (PRECISION), only predicting 0.12% of non-viral videos as viral (FALLOUT)(Jain P. and Manweiler J. 2014).\n",
        "\n",
        "In conclusion, CrownCast is framework has the ability of a real-time system. It can monitors a stream of Twitter activity, leverages large-scale graph analysis, invokes online machine learning, and applies low-complexity graph heuristics to output live prediction of soon-to-occur viral events. (Jain P. and Manweiler J. 2014). With the approach evaluation, CrownCast can operate in different domain and has high accuracy in predicting viral tweet."
      ]
    },
    {
      "cell_type": "markdown",
      "metadata": {
        "id": "L6ewmBVueNIn",
        "colab_type": "text"
      },
      "source": [
        "##**Ethic and Social Consequences**"
      ]
    },
    {
      "cell_type": "markdown",
      "metadata": {
        "id": "HwU1xH9vfSbt",
        "colab_type": "text"
      },
      "source": [
        "###**Ethical**"
      ]
    },
    {
      "cell_type": "markdown",
      "metadata": {
        "id": "ysCCWEJRE5mP",
        "colab_type": "text"
      },
      "source": [
        "\n",
        "A meme can travel far due to being able to open share between audiences. When the meme is spreading too fast, and without the creator consent or awareness, the meme content can be alternated in many different ways and can be accessed by millions of different other audiences. The change of a meme content may be creative, social or humorous to some audience. However, it can contain destructive, antagonistic, and alienating for the others.\n",
        "\n",
        "Furthermore, the internet is not an ethics-free zone. Behind every screen is a person with feeling, family, interest and worries. All memes have context, and not all constructed memes may appeal to everybody. The meme constructed memes may seem to be a harmless joke to most of the audience, but to some, it may have harmful consequences.\n",
        "\n",
        "\n"
      ]
    },
    {
      "cell_type": "markdown",
      "metadata": {
        "id": "P0X24snTfUvF",
        "colab_type": "text"
      },
      "source": [
        "###**Social Consequences**"
      ]
    },
    {
      "cell_type": "markdown",
      "metadata": {
        "id": "mK5nLnXILxDf",
        "colab_type": "text"
      },
      "source": [
        "\n",
        "\n",
        "Because a company may use user personal information without their consent to construct a meme, the company has exposed personal information and invading personal privacy. This act is illegal and has many negative impacts on the company\n",
        "\n",
        "\n",
        "Also, a meme can change the way of thinking. For example, stealing is considered to be wrongdoing. However, if a meme is making stealing is equivalent to a joke and make people laugh. If a person without self-awareness think this is funny and not illegal, they may attempt to steal. So, a meme can change a person way of thinking in a good or bad way depending on a meme.\n",
        "\n"
      ]
    },
    {
      "cell_type": "markdown",
      "metadata": {
        "id": "ObOlUVDFfYHK",
        "colab_type": "text"
      },
      "source": [
        "###**Conclusion**"
      ]
    },
    {
      "cell_type": "markdown",
      "metadata": {
        "id": "gS2hQKKCUmxQ",
        "colab_type": "text"
      },
      "source": [
        "Because the internet is not an ethics-free zone, a meme can be happy to one person but destructive to others. Also, A meme has a significant impact on a person way of thinking. In conclusion, the company and meme creator needs to have responsibility for what they created and beware of other privacy and feelings."
      ]
    },
    {
      "cell_type": "markdown",
      "metadata": {
        "id": "hkU5dsk3HiH3",
        "colab_type": "text"
      },
      "source": [
        "##**References**"
      ]
    },
    {
      "cell_type": "markdown",
      "metadata": {
        "id": "Kt2BymM8Hj4n",
        "colab_type": "text"
      },
      "source": [
        "Jain, P., Manweiler, J., Acharya, A. & Choudhury, R. R., 2014, 'Scalable Social Analytics for Live Viral Event Prediction', pp 1-10, viewed 4 October 2019, <https://www.aaai.org/ocs/index.php/ICWSM/ICWSM14/paper/download/8035/8123>\n",
        "\n",
        "\n"
      ]
    },
    {
      "cell_type": "markdown",
      "metadata": {
        "id": "ttdzFMcOLUpx",
        "colab_type": "text"
      },
      "source": [
        "Li, W., Cranmer, S., Zheng, Z. & Mucha, P. J., 2019, 'Infectivity enhances prediction of viral cascades in Twitter', Public Library of Science, vol. 14, issue 4, p. 1, viewed 4 October 2019, <https://search-proquest-com.ezproxy.lib.uts.edu.au/science/docview/2210976879/abstract/A9898623363A4031PQ/1?accountid=17095>"
      ]
    },
    {
      "cell_type": "markdown",
      "metadata": {
        "id": "1u0Gj6LvLYWA",
        "colab_type": "text"
      },
      "source": [
        "Phillips, W., 2016, 'The complex ethics of online memes', The Ethics Centre, viewed 7 October 2019, <https://ethics.org.au/the-complex-ethics-of-online-memes/>"
      ]
    },
    {
      "cell_type": "markdown",
      "metadata": {
        "id": "_PJ9lhsULaBH",
        "colab_type": "text"
      },
      "source": [
        "Varol, Ol, Ferrara, E., Menczer, F. & Flammini, A., 2017, 'Early detection of promoted campaigns on social media',Springer Nature B.V, vol. 6, issue 1, pp.1-19, viewed 4 October 2019, <https://search-proquest-com.ezproxy.lib.uts.edu.au/science/docview/1957100491/abstract/7D707EFB0E074085PQ/1?accountid=17095>"
      ]
    },
    {
      "cell_type": "markdown",
      "metadata": {
        "id": "oR6mZhl8Lbof",
        "colab_type": "text"
      },
      "source": [
        "\n",
        "\n",
        "Yoon, I., 2016, 'Why is it not Just a Joke? Analysis of Internet Memes Associated with Racism and Hidden Ideology of Colorblindness', United States Society for Education Through Art, vol. 33, pp. 92-123, viewed 4 October 2019, <https://search-proquest-com.ezproxy.lib.uts.edu.au/science/docview/1848071806/abstract/39EC3FDBCE68484EPQ/1?accountid=17095>"
      ]
    },
    {
      "cell_type": "markdown",
      "metadata": {
        "id": "zBrYb4hhLd0f",
        "colab_type": "text"
      },
      "source": [
        "Weng, L., Menczer, F & Ahn, Y., 2013, 'Virality Prediction and Community Structure in Social Networks', Nature Publishing Group, vol.3 , pp. 2522 - 2528 viewed 4 October 2019, <https://search-proquest-com.ezproxy.lib.uts.edu.au/science/docview/1897440217/abstract/892A8AF852544236PQ/1?accountid=17095>"
      ]
    },
    {
      "cell_type": "markdown",
      "metadata": {
        "id": "_PZiMDNuLfOH",
        "colab_type": "text"
      },
      "source": [
        "\n",
        "\n",
        "\n",
        "Weng, L., Menczer, F & Ahn, Y., 2014, 'Predicting Successful Memes using Network and Community Structure', p. 1, viewed 4 October 2019, <https://search-proquest-com.ezproxy.lib.uts.edu.au/science/docview/2084155834/28FED380F9E746DAPQ/1?accountid=17095>"
      ]
    },
    {
      "cell_type": "markdown",
      "metadata": {
        "id": "SrOyR-OtLgnH",
        "colab_type": "text"
      },
      "source": [
        "##**Appendix**"
      ]
    },
    {
      "cell_type": "markdown",
      "metadata": {
        "id": "byFgYt6XLlwf",
        "colab_type": "text"
      },
      "source": [
        "Link Colab <https://colab.research.google.com/drive/1Q8HVPG82MzLFy3nAgYN82ewz726ZDkR5?authuser=3#scrollTo=byFgYt6XLlwf>"
      ]
    },
    {
      "cell_type": "markdown",
      "metadata": {
        "id": "0O8lLGr7LoSv",
        "colab_type": "text"
      },
      "source": [
        "Link Github <https://github.com/MinhLe2502/UTS_ML2019_ID13005158/blob/master/A3.ipynb>"
      ]
    }
  ]
}