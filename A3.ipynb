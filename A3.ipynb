{
  "nbformat": 4,
  "nbformat_minor": 0,
  "metadata": {
    "colab": {
      "name": "A3.ipynb",
      "provenance": [],
      "include_colab_link": true
    },
    "kernelspec": {
      "name": "python3",
      "display_name": "Python 3"
    }
  },
  "cells": [
    {
      "cell_type": "markdown",
      "metadata": {
        "id": "view-in-github",
        "colab_type": "text"
      },
      "source": [
        "<a href=\"https://colab.research.google.com/github/MinhLe2502/UTS_ML2019_ID13005158/blob/master/A3.ipynb\" target=\"_parent\"><img src=\"https://colab.research.google.com/assets/colab-badge.svg\" alt=\"Open In Colab\"/></a>"
      ]
    },
    {
      "cell_type": "markdown",
      "metadata": {
        "id": "XM-n4gQ6wyB2",
        "colab_type": "text"
      },
      "source": [
        "#***Assessment 3: Take Home Exam***"
      ]
    },
    {
      "cell_type": "markdown",
      "metadata": {
        "id": "_5d8_QIxyACE",
        "colab_type": "text"
      },
      "source": [
        "Name: Quang Nhat Minh Le\n",
        "\n",
        "ID:13005158"
      ]
    },
    {
      "cell_type": "markdown",
      "metadata": {
        "id": "68vAZl8TyCen",
        "colab_type": "text"
      },
      "source": [
        "**Question 3:**\n",
        "Marketing or advertising companies would be very interested in being able to predict a Twitter message will spread as a meme or not, and even better, construct it so that it will spread. \n",
        "> Why is this a hard problem to solve?\n",
        "\n",
        "> Describe two approaches using data analytics to predict whether a tweet will go viral or not. How would you validate these approaches? \n",
        "\n",
        ">Discuss the ethical and social consequence of this study."
      ]
    },
    {
      "cell_type": "markdown",
      "metadata": {
        "id": "BXErz5mjzwn9",
        "colab_type": "text"
      },
      "source": [
        "##**Introduction**"
      ]
    },
    {
      "cell_type": "markdown",
      "metadata": {
        "id": "OE8VUjYZ22H1",
        "colab_type": "text"
      },
      "source": [
        "    In 1989, Dawkins had stated in his article \"The Selfish Gene.\", a meme is a piece of idea, behaviour, information what shares among people. However, nowadays, a meme is currently known as a concept or a catchphrase which spread from one to another person through social networks, community, forums or blogs. Memes also share common characteristics with infectious diseases because just from one person, a meme could be share with many different people."
      ]
    },
    {
      "cell_type": "markdown",
      "metadata": {
        "id": "31tRdArdW90b",
        "colab_type": "text"
      },
      "source": [
        "##**What's Make A Meme Go Viral**"
      ]
    },
    {
      "cell_type": "markdown",
      "metadata": {
        "id": "bpymDQxgXDEm",
        "colab_type": "text"
      },
      "source": [
        "    A meme becomes viral when its appeal to many people and make them share it on the internet. Also, sharing on the internet is a lot like other kinds of social sharing. However, sharing through the internet or social sharing are both affected by emotion. Emotionally positive articles were likely to be shared than those that were emotionally negative. However, a very negative article was more likely to be shared than the one that was only mildly positive. So, article sharing not only affected by positive or negative emotion but also, how arousing that emotion was. Also, humans tend to make decisions base on other people decision instead of gather information then make your own decision, so when one person said the meme was good, then some other person will agree with that, then it will continue and make the meme go viral."
      ]
    },
    {
      "cell_type": "markdown",
      "metadata": {
        "id": "8OHTXXh2uNPg",
        "colab_type": "text"
      },
      "source": [
        "##**Why Is Predicting If The Meme Become Viral or Not Is a Hard Problem To Solve?**"
      ]
    },
    {
      "cell_type": "markdown",
      "metadata": {
        "id": "Lae3wNHqupoG",
        "colab_type": "text"
      },
      "source": [
        "    Predciting if the meme become viral or not is hard problem due to many factors\n",
        "    "
      ]
    },
    {
      "cell_type": "markdown",
      "metadata": {
        "id": "g_acgbf0yNk9",
        "colab_type": "text"
      },
      "source": [
        "    The first factor is user behaviour and characteristics. By reducing user attention to a meme can increase the competition between memes and decrease the meme's popularity and lifespan. Furthermore, a person's characteristics can also affect the meme's popularity.\n",
        "    \n",
        "    Also, memes and underlaying network's structure have a deep relationship with each other. They both have an impact on each other on the spreading process. Due to the existence of hub and dense subgrades called 'communities', the information flow and the meme spreading is being constraint.\n",
        "    \n",
        "    Furthermore, the meme's spread is considered as social contagion, also known as where the user will be the catalyst to initiate the action on the sharing of information and behaviour on a social network. However, disease and information are two different entity which makes their spreading also different. So, the meme's spreading speed depends on social ties properties. Spreading meme with strong social ties is more effective than small ties, while small ties are for transmitting new information.\n",
        "   \n",
        "    \n",
        "    "
      ]
    },
    {
      "cell_type": "markdown",
      "metadata": {
        "id": "-ikSItigSwAI",
        "colab_type": "text"
      },
      "source": [
        "##**Two Approaches**"
      ]
    },
    {
      "cell_type": "markdown",
      "metadata": {
        "id": "vCxy_pzfSz5s",
        "colab_type": "text"
      },
      "source": [
        "###**Time series analysis and Feature-based classification.**"
      ]
    },
    {
      "cell_type": "markdown",
      "metadata": {
        "id": "bBOgi426Tpif",
        "colab_type": "text"
      },
      "source": [
        "    Time series analysis explores the fluctuation of interaction between user and the meme, utilizing the fluctuation interaction between the user and the meme can predict if the meme will go viral or not.\n",
        "    \n",
        "    Future-base classification aim is to explore the differences in characteristics of different popular memes by applying supervised machine learning techniques with labelled datasets.\n",
        "    \n",
        "    This approach is demostrated through three different aspects. The first one is audience size, audience size is shown through the number of users which had interacted with the meme, and the user neighbours can be considered as the potential audience; for example, user who had a high number of followers tend to have more neighbour who can become potential audience than user which have low number of followers. Secondly is the community structure, community structure is pattern how the audience is sharing the meme with their neighbour, by explore the pattern, user can compare the meme's appeal and predict its virality. Lastly, this approach also shows the user how fast the meme is spreading.\n",
        "    \n",
        "    According to Weng et al. (2014), this approach had experimented with a dataset from Twitter. The reason they used Twitter is due to Twitter contains a large number of memes which are generated and shared every day, and Twitter had a concrete network structure to share and spread the meme. Furthermore, they choose Twitter based on the interactions between a pair of user (u, v) which are u can follow v to see u activities, u can retweet v's tweet to post it on u's news feed and u can mention v's screen name by using \"@\" symbol like \"@v\" (Weng et al. 2014).\n",
        "    \n",
        "    In this approach, the user consider each hastag as a meme and by define some "
      ]
    }
  ]
}