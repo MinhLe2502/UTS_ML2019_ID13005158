{
  "nbformat": 4,
  "nbformat_minor": 0,
  "metadata": {
    "colab": {
      "name": "A3.ipynb",
      "provenance": [],
      "collapsed_sections": [],
      "include_colab_link": true
    },
    "kernelspec": {
      "name": "python3",
      "display_name": "Python 3"
    }
  },
  "cells": [
    {
      "cell_type": "markdown",
      "metadata": {
        "id": "view-in-github",
        "colab_type": "text"
      },
      "source": [
        "<a href=\"https://colab.research.google.com/github/MinhLe2502/UTS_ML2019_ID13005158/blob/master/A3.ipynb\" target=\"_parent\"><img src=\"https://colab.research.google.com/assets/colab-badge.svg\" alt=\"Open In Colab\"/></a>"
      ]
    },
    {
      "cell_type": "markdown",
      "metadata": {
        "id": "XM-n4gQ6wyB2",
        "colab_type": "text"
      },
      "source": [
        "#***Assessment 3: Take Home Exam***"
      ]
    },
    {
      "cell_type": "markdown",
      "metadata": {
        "id": "_5d8_QIxyACE",
        "colab_type": "text"
      },
      "source": [
        "Name: Quang Nhat Minh Le\n",
        "\n",
        "ID:13005158"
      ]
    },
    {
      "cell_type": "markdown",
      "metadata": {
        "id": "68vAZl8TyCen",
        "colab_type": "text"
      },
      "source": [
        "**Question 3:**\n",
        "Marketing or advertising companies would be very interested in being able to predict a Twitter message will spread as a meme or not, and even better, construct it so that it will spread. \n",
        "> Why is this a hard problem to solve?\n",
        "\n",
        "> Describe two approaches using data analytics to predict whether a tweet will go viral or not. How would you validate these approaches? \n",
        "\n",
        ">Discuss the ethical and social consequence of this study."
      ]
    },
    {
      "cell_type": "markdown",
      "metadata": {
        "id": "BXErz5mjzwn9",
        "colab_type": "text"
      },
      "source": [
        "##**Introduction**"
      ]
    },
    {
      "cell_type": "markdown",
      "metadata": {
        "id": "OE8VUjYZ22H1",
        "colab_type": "text"
      },
      "source": [
        "In 1989, Dawkins had stated in his article \"The Selfish Gene.\", a meme is a piece of idea, behaviour, information what shares among people. However, nowadays, a meme is currently known as a concept or a catchphrase which spread from one to another person through social networks, community, forums or blogs. Memes also share common characteristics with infectious diseases because just from one person, a meme could be share with many different people."
      ]
    },
    {
      "cell_type": "markdown",
      "metadata": {
        "id": "31tRdArdW90b",
        "colab_type": "text"
      },
      "source": [
        "##**What's Make A Meme Go Viral**"
      ]
    },
    {
      "cell_type": "markdown",
      "metadata": {
        "id": "bpymDQxgXDEm",
        "colab_type": "text"
      },
      "source": [
        "A meme becomes viral when its appeal to many people and make them share it on the internet. Also, sharing on the internet is a lot like other kinds of social sharing. However, sharing through the internet or social sharing are both affected by emotion. Emotionally positive articles were likely to be shared than those that were emotionally negative. However, a very negative article was more likely to be shared than the one that was only mildly positive. So, article sharing not only affected by positive or negative emotion but also, how arousing that emotion was. Also, humans tend to make decisions base on other people decision instead of gather information then make your own decision, so when one person said the meme was good, then some other person will agree with that, then it will continue and make the meme go viral."
      ]
    },
    {
      "cell_type": "markdown",
      "metadata": {
        "id": "8OHTXXh2uNPg",
        "colab_type": "text"
      },
      "source": [
        "##**Why Is Predicting If The Meme Become Viral or Not Is a Hard Problem To Solve?**"
      ]
    },
    {
      "cell_type": "markdown",
      "metadata": {
        "id": "Lae3wNHqupoG",
        "colab_type": "text"
      },
      "source": [
        "    Predciting if the meme become viral or not is hard problem due to many factors\n",
        "    "
      ]
    },
    {
      "cell_type": "markdown",
      "metadata": {
        "id": "g_acgbf0yNk9",
        "colab_type": "text"
      },
      "source": [
        "The first factor is user behaviour and characteristics. By reducing user attention to a meme can increase the competition between memes and decrease the meme's popularity and lifespan. Furthermore, a person's characteristics can also affect the meme's popularity.\n",
        "    \n",
        "Also, memes and underlaying network's structure have a deep relationship with each other. They both have an impact on each other on the spreading process. Due to the existence of hub and dense subgrades called 'communities', the information flow and the meme spreading is being constraint.\n",
        "    \n",
        "Furthermore, the meme's spread is considered as social contagion, also known as where the user will be the catalyst to initiate the action on the sharing of information and behaviour on a social network. However, disease and information are two different entity which makes their spreading also different. So, the meme's spreading speed depends on social ties properties. Spreading meme with strong social ties is more effective than small ties, while small ties are for transmitting new information.\n",
        "   \n",
        "    \n",
        "    "
      ]
    },
    {
      "cell_type": "markdown",
      "metadata": {
        "id": "-ikSItigSwAI",
        "colab_type": "text"
      },
      "source": [
        "##**Two Approaches**"
      ]
    },
    {
      "cell_type": "markdown",
      "metadata": {
        "id": "vCxy_pzfSz5s",
        "colab_type": "text"
      },
      "source": [
        "###**Time series analysis and Feature-based classification.**"
      ]
    },
    {
      "cell_type": "markdown",
      "metadata": {
        "id": "bBOgi426Tpif",
        "colab_type": "text"
      },
      "source": [
        "Time series analysis explores the fluctuation of interaction between user and the meme, utilizing the fluctuation interaction between the user and the meme can predict if the meme will go viral or not.\n",
        "    \n",
        "Future-base classification aim is to explore the differences in characteristics of different popular memes by applying supervised machine learning techniques with labelled datasets.\n",
        "    \n",
        "This approach is demostrated through three different aspects. The first one is audience size, audience size is shown through the number of users which had interacted with the meme, and the user neighbours can be considered as the potential audience; for example, user who had a high number of followers tend to have more neighbour who can become potential audience than user which have low number of followers. Secondly is the community structure, community structure is pattern how the audience is sharing the meme with their neighbour, by explore the pattern, user can compare the meme's appeal and predict its virality. Lastly, this approach also shows the user how fast the meme is spreading.\n",
        "    \n",
        "According to Weng et al. (2014), this approach had experimented with a dataset from Twitter. The reason they used Twitter is due to Twitter contains a large number of memes which are generated and shared every day, and Twitter had a concrete network structure to share and spread the meme. Furthermore, they choose Twitter based on the interactions between a pair of user (u, v) which are u can follow v to see u activities, u can retweet v's tweet to post it on u's news feed and u can mention v's screen name by using \"@\" symbol like \"@v\" (Weng et al. 2014).\n",
        "    \n",
        "In this approach, the user consider each hastag as a meme. To predict which meme are going to be vrial. By consider a meme as h, and calculate the time difference between the first tweet and the n-th tweet with the formula \n",
        "    \n",
        ">$t_n^h - t_1^h$\n",
        "  \n",
        "using the formula, the user can see the growth rate of h. For example, figure 1 displays the connection between h growth rate and h popularity. The early spreading time is inconstancy which makes the meme popularity decrease.\n",
        "    \n",
        "<img src=\"https://github.com/MinhLe2502/UTS_ML2019_ID13005158/raw/master/3-1.png\" height=\"200\" width=\"520\"/> \n",
        "   \n",
        "   \n",
        "Figure 1. The relationship between the meme popularity measured in the number of tweets, |T(h)|, and adopters,|A(h)|, and the early spreading time with n = 50, $t_50^h - t_1^h$ 1seconds. (Wang et al. 2014)\n",
        "   \n",
        "   After we measure the difference time between the first tweet and the lastest tweet, we can measure the time difference between each consecutive tweet with the formula:\n",
        "    \n",
        ">$t_{i+1}^h - t_i^h$\n",
        "\n",
        "The formula can be implemented to two predictions features.\n",
        "    \n",
        "**Average Step time duration**\n",
        "    \n",
        "> $\\Delta t_n(h) = \\frac{\\sum_{i=1}^{n-1} t_{i+1}^h}{n-1}=\\frac{t_n^h - t_1^h}{n-1}$\n",
        "\n",
        "**CV of step time duration**\n",
        "    \n",
        "> $C_v(\\Delta t_n(h))= \\frac{1}{\\Delta t_n(h)}* (\\frac{sum_{i=1}^{n-1} (t_{i+1}^h-t_i^h-\\Delta t_n(h))^2}{n-2})^\\frac{1}{2}$\n",
        "\n",
        "In the experiments, the writers had defined the popularity of a meme as the number of retweets. The meme was divided into five different sections based on the difference in popularity. Each section is used for different prediction models. The approach uses random forest classifier combines with hashtags which were used in the first two weeks of March 2012. \n",
        "    \n",
        "By measuring both precision and recall of each section, the writer had found that meme the early stage popularity of a meme does not guarantee a future popularity. The writer had to define early popular is $|T^T|$, and later popularity is $|T|$. For example, in figure 2, two hastags *#InvisibleChildren* and *#FavFemaleSinger* started at the sane time, although *#InvisibleChildren* had more retweet in the first two weeks. However, *#InvisibleChildren* growth become slowly after the early burst and *#FavFemaleSinger* continue to grow and become more popular than *#InvisibleChildren*.\n",
        "    \n",
        "<img src=\"https://github.com/MinhLe2502/UTS_ML2019_ID13005158/raw/master/3_2.png\" height=\"200\" width=\"520\"/> \n",
        "\n",
        "Figure 2. (a) Scatter plot of early popularity T' versus T for each meme; the black dashed line is the regression line by the LN model. (b) Cumulative popularity for two hashtags, *#FavFemaleSinger* and *#InvisibleChildren*. (Wang et al. 2014).\n",
        "\n",
        "The writer defined $F_1$ as the scores of different models for predicting the future usage or adopter popularity (Wang et al. 2014). \n",
        "\n",
        ">$F_1 = \\frac{2*precision*recall}{presision+recall}$\n",
        "\n",
        "The value of F1 is between 0 and 1, with the value to 1, the meme has hgiher chance to become viral. Figure 3 display the score for each different model of each sections. Furthermore, to validate Network-based Prediction Model $(P_n)$, the write also apply 10-fold cross validation to validate how each of the sections perform and how was it F1 value\n",
        "\n",
        "<img src=\"https://github.com/MinhLe2502/UTS_ML2019_ID13005158/raw/master/3_3.png\" height=\"800\" width=\"400\"/> \n",
        "\n",
        "Figure 3. F1 scores of the prediction models, demonstrate the results using the Infomap community detection method; link clustering yields\n",
        "similar results (Wang et al., 2014)\n"
      ]
    },
    {
      "cell_type": "markdown",
      "metadata": {
        "id": "W634HeDDd2Tn",
        "colab_type": "text"
      },
      "source": [
        "###**CrowdCast**"
      ]
    },
    {
      "cell_type": "markdown",
      "metadata": {
        "id": "FMd1n_SMeDV8",
        "colab_type": "text"
      },
      "source": [
        "CrownCast is a cloud-based platform. CrownCast work based on observation of Twitter’s tweet and Youtube video, then predicts whether if it will go viral in the near future.\n",
        "\n",
        "CrownCast works by opens a TCP connection to Twitter’s public API. After receiving tweets from Twitter, CrownCast check for the tweet original content, the neighbours which the tweet was retweeted to and the owner of the tweet. CrownCast calculates the influence score based on the number of retweets, the spreading speed and the tweet view. CrownCast apply automated training and classfication to label the tweet. Labelled tweet inferred form the natural language content and unlabeled tweet must be inferred from the natural language content. Label tweet act as the training set and unlabeled tweet act as the test set. \n",
        "\n",
        "CrownCast quantifies a Twitter tweet as a star-like or tree graph. Figure 4 illustrated Twitter activity graph.  After creating a graph of Twitter activity, CrownCast continues to calculate the average path length. However, if calculated average path length based on Floyd Warshall algorithm or Johnson’s algorithm with tweet contains 500 retweets would take hours. According to Jain P. and Manweiler J. (2014) had stated that no general average path length heuristics exists, but it can be effectively estimated for scale-free graphs. By applying a power law: $P(x) \\alpha x^ {-\\beta}$, where P(x) is the  factions scale on x.  According to Jain P. and Manweiler J. (2014), if $2<\\beta<3$ then average path length may be estimated when $\\beta >= 2$. This can be view in figure 5.\n",
        "\n",
        "<img src=\"https://github.com/MinhLe2502/UTS_ML2019_ID13005158/raw/master/3_4.png\" height=\"300\" width=\"520\"/> \n",
        "\n",
        "Figure 4. Twitter activity graph constructed for a single viral video. Note the tree-like structure expanding over time.(Jain P. and Manweiler J. 2014)\n",
        "\n",
        "<img src=\"https://github.com/MinhLe2502/UTS_ML2019_ID13005158/raw/master/3_5.png\" height=\"300\" width=\"520\"/> \n",
        "\n",
        "Figure 4. β distribution for activity graphs. For 2 < β < 3(≈ 65%), average path length may be estimated accurately(Jain P. and Manweiler J. 2014)\n",
        "\n",
        "The writer had evaluated CrownCast accuracy by using tweet, which contain video-related keywords or if a tweet contains a video. In order to determine which tweet will become viral in the next hour, the writer has considered a viral event to have occurred only\n",
        "when a video experiences an explosive increase in viewership over a short duration and only if the popularity is increasing 500-fold (less than 24 hours)(Jain P. and Manweiler J. 2014). \n",
        "\n",
        "According to Jain P. and Manweiler J. (2014), NODECOUNT simple metric on tweet activity ranks videos in descending order by vertex count in the activity graph, AVERAGEDISTANCE ranks videos in descending order of average path length in the activity graph. The writer evaluates CrownCast by using NodeCount to count the number of views, retweets of a tweet, and AverageDistance as the activity of the tweet, then rank video based on formula $\\frac{NODECOUNT * AVERAGEDISTANCE}{\\sum_{\\forall i}p_i}$, where $p_i$ denotes the PageRank of activity graph vertex i.\n",
        "\n",
        "The writers also defined Y as the set of all video form the tweet. V $\\subset$ Y is the set which will become viral. P $\\subset$ Y is the set which CrownCast predict will go viral.V\\P denotes CrowdCast’s false negative predictions, P\\V denotes CrowdCast’s false positive and Y\\V denotes the set of videos which did\n",
        "not go viral. Figure 6 has evaluated CrownCast’s predictions with the following metric.\n",
        "\n",
        "\n",
        "\n",
        "<img src=\"https://github.com/MinhLe2502/UTS_ML2019_ID13005158/raw/master/3_6.png\" height=\"320\" width=\"400\"/> \n",
        "\n",
        "Figure 6. CrownCast’s prediction evaluation through standard metrics (Jain P. and Manweiler J. 2014).\n",
        "\n",
        "\n",
        "CrownCast then samples on 30 independent trials, one for each day in one month. The evaluation used 500 videos as the testing set. After the first 24 hours, the writer takes only the video, which has more than 1000 views. After another 24 hours, videos with more than 500000 views are considered true positive and less than 500000 views are false positives. Also, videos which have 1000 to 500000 views are false negative and less than 1000 views are real negative. Figure 7 shows the CrownCast through standard metrics\n",
        "\n",
        "<img src=\"https://github.com/MinhLe2502/UTS_ML2019_ID13005158/raw/master/3_7.png\" height=\"450\" width=\"1000\"/> \n",
        "\n",
        "Figure 7. CrowdCast predicts about 50% of the videos which become viral (RECALL), with about\n",
        "two false positives for every true positive (PRECISION), only predicting 0.12% of non-viral videos as viral (FALLOUT)(Jain P. and Manweiler J. 2014).\n",
        "\n",
        "In conclusion, CrownCast is framework has the ability of a real-time system. It can monitors a stream of Twitter activity, leverages large-scale graph analysis, invokes online machine learning, and applies low-complexity graph heuristics to output live prediction of soon-to-occur viral events. (Jain P. and Manweiler J. 2014). With the approach evaluation, CrownCast can operate in different domain and has high accuracy in predicting viral tweet."
      ]
    },
    {
      "cell_type": "markdown",
      "metadata": {
        "id": "L6ewmBVueNIn",
        "colab_type": "text"
      },
      "source": [
        "##**Ethic and Social Consequences**"
      ]
    },
    {
      "cell_type": "markdown",
      "metadata": {
        "id": "HwU1xH9vfSbt",
        "colab_type": "text"
      },
      "source": [
        "###**Ethical**"
      ]
    },
    {
      "cell_type": "markdown",
      "metadata": {
        "id": "ysCCWEJRE5mP",
        "colab_type": "text"
      },
      "source": [
        "There are many ethical problems related to meme and how to construct a viral meme.\n",
        "\n",
        "A meme can travel far due to being able to share between audiences. When the meme is spreading too fast, and without the creator consent or awareness, the meme content can be alternated in many different ways and can be accessed by millions of different other audiences. The change of a meme content may be creative, social or humorous to some audience. However, it can contain destructive, antagonistic, and alienating for the others.\n",
        "\n",
        "A constructed meme purpose is to be humorous and appeal to many different audiences. However, when the company want to construct a meme and make it viral, the company need to research the market and explore what is trendy right now. Moreover, apply that trendy to their meme to construct it to be viral. However, the information can be the Apersonal information of a user. The company may use that user information without their consent, which makes that meme expose personal information and the company at risk at invading user privacy.\n",
        "\n",
        "Furthermore, the internet is not an ethics-free zone. Behind every screen is a person with feeling, family, interest and worries. All meme have context, and not all constructed meme may appeal to everybody. The meme constructed meme may seem to be a harmless joke to most of the audience, but to some, it may have harmful consequence.\n",
        "\n",
        "\n"
      ]
    },
    {
      "cell_type": "markdown",
      "metadata": {
        "id": "P0X24snTfUvF",
        "colab_type": "text"
      },
      "source": [
        "###**Social Consequences**"
      ]
    },
    {
      "cell_type": "markdown",
      "metadata": {
        "id": "mK5nLnXILxDf",
        "colab_type": "text"
      },
      "source": [
        "A meme can bring joy to many different kinds of audiences and make them relax after a tiring day at work. However, meme also has a terrible side which affected socially.\n",
        "\n",
        "Because a company may use user personal information without their consent to construct a meme, the company has exposed personal information and invading personal privacy. This act is illegal and has many negative impacts on the company\n",
        "\n",
        "Furthermore, the humour of a meme is concerned with the context, the one telling the joke, the audience, time and place of the meme. However, the humour of a meme does not always appeal to all audience. It sometimes is considered as racist. When someone found the racist meme is funny, they will share it with other neighbours. This sharing is considered racism spreading which may affect young people and make them racist toward a race.\n",
        "\n",
        "Also, a meme can change the way of thinking. For example, stealing is considered to be wrongdoing. However, if a meme is making stealing is equivalent to a joke and make people laugh. If a person without self-awareness think this is funny and not illegal, they may attempt to steal. So, a meme can change a person way of thinking in a good or bad way depending on a meme.\n",
        "\n"
      ]
    },
    {
      "cell_type": "markdown",
      "metadata": {
        "id": "ObOlUVDFfYHK",
        "colab_type": "text"
      },
      "source": [
        "###**Conclusion**"
      ]
    },
    {
      "cell_type": "markdown",
      "metadata": {
        "id": "gS2hQKKCUmxQ",
        "colab_type": "text"
      },
      "source": [
        "In conclusion, because the internet is not an ethics-free zone, meme constructor needs to have responsibility for what they created and beware of other privacy and feelings."
      ]
    },
    {
      "cell_type": "markdown",
      "metadata": {
        "id": "hkU5dsk3HiH3",
        "colab_type": "text"
      },
      "source": [
        "##**References**"
      ]
    },
    {
      "cell_type": "markdown",
      "metadata": {
        "id": "Kt2BymM8Hj4n",
        "colab_type": "text"
      },
      "source": [
        "Jain, P., Manweiler, J., Acharya, A. & Choudhury, R. R., 2014, 'Scalable Social Analytics for Live Viral Event Prediction', pp 1-10, viewed 4 October 2019, <https://www.aaai.org/ocs/index.php/ICWSM/ICWSM14/paper/download/8035/8123>\n",
        "\n",
        "\n"
      ]
    },
    {
      "cell_type": "markdown",
      "metadata": {
        "id": "ttdzFMcOLUpx",
        "colab_type": "text"
      },
      "source": [
        "Li, W., Cranmer, S., Zheng, Z. & Mucha, P. J., 2019, 'Infectivity enhances prediction of viral cascades in Twitter', Public Library of Science, vol. 14, issue 4, p. 1, viewed 4 October 2019, <https://search-proquest-com.ezproxy.lib.uts.edu.au/science/docview/2210976879/abstract/A9898623363A4031PQ/1?accountid=17095>"
      ]
    },
    {
      "cell_type": "markdown",
      "metadata": {
        "id": "1u0Gj6LvLYWA",
        "colab_type": "text"
      },
      "source": [
        "Phillips, W., 2016, 'The complex ethics of online memes', The Ethics Centre, viewed 7 October 2019, <https://ethics.org.au/the-complex-ethics-of-online-memes/>"
      ]
    },
    {
      "cell_type": "markdown",
      "metadata": {
        "id": "_PJ9lhsULaBH",
        "colab_type": "text"
      },
      "source": [
        "Varol, Ol, Ferrara, E., Menczer, F. & Flammini, A., 2017, 'Early detection of promoted campaigns on social media',Springer Nature B.V, vol. 6, issue 1, pp.1-19, viewed 4 October 2019, <https://search-proquest-com.ezproxy.lib.uts.edu.au/science/docview/1957100491/abstract/7D707EFB0E074085PQ/1?accountid=17095>"
      ]
    },
    {
      "cell_type": "markdown",
      "metadata": {
        "id": "oR6mZhl8Lbof",
        "colab_type": "text"
      },
      "source": [
        "\n",
        "\n",
        "Yoon, I., 2016, 'Why is it not Just a Joke? Analysis of Internet Memes Associated with Racism and Hidden Ideology of Colorblindness', United States Society for Education Through Art, vol. 33, pp. 92-123, viewed 4 October 2019, <https://search-proquest-com.ezproxy.lib.uts.edu.au/science/docview/1848071806/abstract/39EC3FDBCE68484EPQ/1?accountid=17095>"
      ]
    },
    {
      "cell_type": "markdown",
      "metadata": {
        "id": "zBrYb4hhLd0f",
        "colab_type": "text"
      },
      "source": [
        "Weng, L., Menczer, F & Ahn, Y., 2013, 'Virality Prediction and Community Structure in Social Networks', Nature Publishing Group, vol.3 , pp. 2522 - 2528 viewed 4 October 2019, <https://search-proquest-com.ezproxy.lib.uts.edu.au/science/docview/1897440217/abstract/892A8AF852544236PQ/1?accountid=17095>"
      ]
    },
    {
      "cell_type": "markdown",
      "metadata": {
        "id": "_PZiMDNuLfOH",
        "colab_type": "text"
      },
      "source": [
        "\n",
        "\n",
        "\n",
        "Weng, L., Menczer, F & Ahn, Y., 2014, 'Predicting Successful Memes using Network and Community Structure', p. 1, viewed 4 October 2019, <https://search-proquest-com.ezproxy.lib.uts.edu.au/science/docview/2084155834/28FED380F9E746DAPQ/1?accountid=17095>"
      ]
    },
    {
      "cell_type": "markdown",
      "metadata": {
        "id": "SrOyR-OtLgnH",
        "colab_type": "text"
      },
      "source": [
        "##**Appendix**"
      ]
    },
    {
      "cell_type": "markdown",
      "metadata": {
        "id": "byFgYt6XLlwf",
        "colab_type": "text"
      },
      "source": [
        "Link Colab <https://colab.research.google.com/drive/1Q8HVPG82MzLFy3nAgYN82ewz726ZDkR5?authuser=3#scrollTo=byFgYt6XLlwf>"
      ]
    },
    {
      "cell_type": "markdown",
      "metadata": {
        "id": "0O8lLGr7LoSv",
        "colab_type": "text"
      },
      "source": [
        "Link Github <https://github.com/MinhLe2502/UTS_ML2019_ID13005158/blob/master/A3.ipynb>"
      ]
    }
  ]
}