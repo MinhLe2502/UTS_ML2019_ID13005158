{
  "nbformat": 4,
  "nbformat_minor": 0,
  "metadata": {
    "colab": {
      "name": "A1.ipynb",
      "version": "0.3.2",
      "provenance": [],
      "collapsed_sections": [],
      "include_colab_link": true
    },
    "kernelspec": {
      "name": "python3",
      "display_name": "Python 3"
    }
  },
  "cells": [
    {
      "cell_type": "markdown",
      "metadata": {
        "id": "view-in-github",
        "colab_type": "text"
      },
      "source": [
        "<a href=\"https://colab.research.google.com/github/MinhLe2502/UTS_ML2019_ID13005158/blob/master/A1.ipynb\" target=\"_parent\"><img src=\"https://colab.research.google.com/assets/colab-badge.svg\" alt=\"Open In Colab\"/></a>"
      ]
    },
    {
      "cell_type": "markdown",
      "metadata": {
        "id": "B7PS0YcyvSrY",
        "colab_type": "text"
      },
      "source": [
        "#***Eigenfaces vs. Fisherfaces: Recognition Using Class Specific Linear Projection***\n"
      ]
    },
    {
      "cell_type": "markdown",
      "metadata": {
        "id": "MazdlgQwvbBW",
        "colab_type": "text"
      },
      "source": [
        "##**Introduction**"
      ]
    },
    {
      "cell_type": "markdown",
      "metadata": {
        "id": "uV15r4envevC",
        "colab_type": "text"
      },
      "source": [
        "       The article: “Eigenfaces vs. Fisherfaces: Recognition Using Class Specific Linear Projection” was written by Peter N. Belhumeur, Joao P. Hespanha, and David J. Kriegman in 1997. The article mainly focused on the newly proposed face recognition algorithm. The aim of the test is to demonstrate how the new face recognition algorithm works even if the image is under intense variety of light and face expressions and to reveal the results the authors had found and what problems were faced when conducting the experiments. This article consists both the positive and negative sides.\n",
        "\n"
      ]
    },
    {
      "cell_type": "markdown",
      "metadata": {
        "id": "tWOt4YHDvh9C",
        "colab_type": "text"
      },
      "source": [
        "##**Content**"
      ]
    },
    {
      "cell_type": "markdown",
      "metadata": {
        "id": "hrKSGU1AvjtF",
        "colab_type": "text"
      },
      "source": [
        "       In the article, the authors had stated the challenge the researchers had to face when developing a new algorithm. Due to the variety of lightning in photos, the face of one person can appear differently on two photos, though the face expressions are identical. To be able to identify a person in unlabeled facial images using set of labeled images, four methods were applied: Correlation, Eigenfaces, Linear Subspaces and Fisherfaces.\n",
        "\n",
        "      Also, the author also presented and discussed each of the aforementioned face recognition techniques using two different datasets. The first dataset was from the Harvard Robotics Laboratory, the dataset containing five subsets, the five subsets contained image which was taken from a fixed viewpoint, but with different light source intensity and direction, sample images from each subset are shown in figure 1. The second dataset was constructed at Yale with images taken from the same angle but with different facial expression and lighting, sample image from the second dataset are shown in figure 2.\n",
        "\n",
        "\n",
        "<img src=\"https://github.com/MinhLe2502/UTS_ML2019_ID13005158/blob/master/1.PNG?raw=true\" height=\"450\" width=\"850\"/>\n",
        "\n",
        "figure 1. The Harvard dataset (Belhumeur -  Hespanha - Kriegman, 1997, p.715)\n",
        "\n",
        "<img src=\"https://github.com/MinhLe2502/UTS_ML2019_ID13005158/raw/master/2.PNG\" height=\"450\" width=\"850\"/>\n",
        "\n",
        "figure 2 The Yale dataset (Belhumeur -  Hespanha - Kriegman, 1997, p.717)\n",
        "\n",
        "      On the Harvard dataset, he performed extrapolating and interpolating experiments. In the extrapolating experiment, the authors used subset 1 as the learning set and subset 1,2 and 3 as the test set. On the other hand, in the interpolation experiment, the authors used subset 1 and 5 as the learning set and test in subset 2, 3 and 4. The result of the experiment can be view in figured 3  and figure 4\n",
        "\n",
        "<img src=\"https://github.com/MinhLe2502/UTS_ML2019_ID13005158/raw/master/3.PNG\" height=\"450\" width=\"850\"/>\n",
        "\n",
        "figure 3 Extrapolation (Belhumeur -  Hespanha - Kriegman, 1997, p.716)\n",
        "\n",
        "<img src=\"https://github.com/MinhLe2502/UTS_ML2019_ID13005158/raw/master/4.PNG\" height=\"450\" width=\"850\"/>\n",
        "\n",
        "figure 4 Interpolation (Belhumeur -  Hespanha - Kriegman, 1997, p.717)\n",
        "\n",
        "      In conclusion, through the article, the reader can see that the authors are trying to find a new algorithm which can be used in a variation of lighting direction and facial expression. After experimenting, the authors had concluded their finding by proposed the Fisherfaces method, which appeared to be the best at face recognition with variation in lighting and facial expression. However, the authors also stated that the proposed algorithm might be used in a variation of lighting direction, but the algorithm may likely to break down under extreme lighting conditions."
      ]
    },
    {
      "cell_type": "markdown",
      "metadata": {
        "id": "VuA37P0hGf7x",
        "colab_type": "text"
      },
      "source": [
        "##**Innovation**"
      ]
    },
    {
      "cell_type": "markdown",
      "metadata": {
        "id": "fIrW27L0Gj3D",
        "colab_type": "text"
      },
      "source": [
        "      The research paper cannot be considered as entirely innovative, as the methods that been used for the experiments are not new. However, the algorithm that has been applied is new, and the tests have revealed which face recognition technology is the most accurate, still, the new method should be created in order to achieve better results. If the authors develop the method that works even under extreme lighting conditions the paperwork would be called as an entirely innovative, as no one before created a method which ideally identifies the person in the image, that has extreme lightning conditions. \n",
        "      \n",
        "      The paper can be considered innovated through contributing the Fisherfaces method, by experimenting and compare the error rate of each method in a different experiment, the authors had given concrete evidence for the reader to believe in the Fisherfaces method. The concrete evidence can be demonstrated through different meaning such as the defined of each method, the result of each experiment on a different dataset and the way the authors present the comparison which shows that the proposed algorithm not only the newly developed but also showing concrete evidence.\n",
        "       \n",
        "       However, the authors also show the challenge which the new method had to face such as how does the method extend to an extensive database or can variation in lighting condition be accommodated if the images are only observed under one lighting condition. In addition, the new method is easy to break down under extreme lighting conditions. \n",
        "       \n",
        "       In conclusion, the research paper cannot be considered as entirely innovative, although the algorithm that has been applied is new, and the tests have revealed which face recognition technology is the most accurate. However, there are still challange, and the authors had not demonstarate research advice to solve the problem. So, the research paper considers as not entirely innovative.\n",
        "      \n",
        "\n"
      ]
    },
    {
      "cell_type": "markdown",
      "metadata": {
        "id": "bWrbF1J2Gj_r",
        "colab_type": "text"
      },
      "source": [
        "##**Technical Quality**"
      ]
    },
    {
      "cell_type": "markdown",
      "metadata": {
        "id": "hI6umOIbGmrZ",
        "colab_type": "text"
      },
      "source": [
        "      The article had proved to be a good quality paper through many different aspects. \n",
        "\n",
        "      Firstly, the quality of the paper is demonstrated through the experiments. The authors had conducted two experiments. The first experiment conducted with the Harvard dataset, the dataset contains 5 subsets, each subset had different lighting. The second experiment conducted with the Yale dataset; however, in the second experiment, the author conducted not only with the difference in lighting but also with variation in facial expression. Through using the learning set information, combine with two experiments, the author had acquired the error rate on the test set.\n",
        "\n",
        "      Secondly, to let the reader be able to understand and replicate the experiment, the author had carefully instructed how the image should be processed and procedure for a different method.\n",
        "\n",
        "      Also, the result which was drawn out from the two experiments was the error rate of the test set based on the learning set. A comparison was made between the result of each method in each experiment; through the comparison, the reader can see which test is better and more appropriate for image recognition. Although the author only conducted only two experiments, in each experiment, the images are under different lighting condition, combine with different facial expression and glasses recognition, which made the author’s result was are highly persuasive.\n"
      ]
    },
    {
      "cell_type": "markdown",
      "metadata": {
        "id": "rHSLoz-JHAVq",
        "colab_type": "text"
      },
      "source": [
        "##**Application and X-factor**"
      ]
    },
    {
      "cell_type": "markdown",
      "metadata": {
        "id": "Um6YvumjHEAR",
        "colab_type": "text"
      },
      "source": [
        "      According to the article, the proposed article only demonstrates how the Fisherfaces method apply on the face recognition. Although, by showing concrete evidence, we can see how accureate the method when apply on face recognition. However, Fisherfaces methood can be apply on a vatiety of different domain. \n",
        "      \n",
        "      Face recognition can bbe extend to tracking people or to identify people. This application domain take the photo from the database as the learnign set, and taking images which took from a fixed area as the test set. by capplying the Fisherfacces method to comapare pixel to indetify which person match with the learning set.\n",
        "      \n",
        "      In addition, using face recognition, we can determin objects, by applying the same procedure and replace human images with objects images. With the increseing in market demanding in autonoumous car, the author could apply the methods on object recongison and apply it to create autonomous car. by using image from a learning set to identify activities on the road to determine which action should be executed.\n",
        "      \n",
        "      Also, still apply the same principle in object recogniton, we take the orignianal of the entire forest area as the learning set, by iendtify each different in each pixel, we can prevent forest fires and poaching.\n",
        "      \n",
        "      In conclusion, beside from apply in face recogniton, the method can be apply in a wide artiey of different area. Through the work, the reader can understand more about the method and how it can apply in our daily lives.\n"
      ]
    },
    {
      "cell_type": "markdown",
      "metadata": {
        "id": "ij6IMAAIHYNu",
        "colab_type": "text"
      },
      "source": [
        "##**Presentation**"
      ]
    },
    {
      "cell_type": "markdown",
      "metadata": {
        "id": "DRG_wVQgHk7g",
        "colab_type": "text"
      },
      "source": [
        "      The article's presentation is critiqued on many different aspects such as presentation style, the depth of the author’s argument and how easy to follow the argument combine with the clarity of the presentation. Throughout the paper, the authors had summary all of the critical information and thoroughly explained each of the information and the experiment's procedure, which make it easy for the reader to follow the argument. Also, by dividing the information into different sections, the reader can easily follow the information the author wanted to deliver, which make the paper had an exquisite presentation style. Furthermore, to support their argument, the author always gives concrete evidence to support their argument. In conclusion, the paper contained a depth argument, but with an exquisite style of presentation, the reader can easily follow the argument and understand what the author wants to deliver."
      ]
    },
    {
      "cell_type": "markdown",
      "metadata": {
        "id": "q3CwPvwkKkzA",
        "colab_type": "text"
      },
      "source": [
        "##**Appendix**"
      ]
    },
    {
      "cell_type": "markdown",
      "metadata": {
        "id": "IRQeBDM8Kv_u",
        "colab_type": "text"
      },
      "source": [
        "###Article \n",
        "      \n",
        "      Belhumeur, P.N., Hespanha, J.P., Kriegman, D.J. 1997, 'Eigenfaces vs. Fisherfaces: recognition using class specific linear projection', IEEE Transactions on Pattern Analysis and Machine Intelligence, vol. 19, issue &, pp. 711-720."
      ]
    },
    {
      "cell_type": "markdown",
      "metadata": {
        "id": "pE82hSXxKpCu",
        "colab_type": "text"
      },
      "source": [
        "###Reference List\n",
        "\n",
        "      Anggo, M. & Arapu, L. 2018, ‘Face Recognition Using Fisherface Method’, Journal of Physics, vol. 1028, viewed 26 August 2019, <https://iopscience.iop.org/article/10.1088/1742-6596/1028/1/012119>. \n",
        "\n",
        "      Fisher, R. 1936, ‘The use of multiple measurements in taxonomic problems’, Annals of Eugenics, vol. 7, no. 2, pp. 179-188.\n",
        "\n",
        "      Gupta, S. 2018, ‘Understanding image recognition and its uses’, Einfochips, viewed 23 August 2019, <https://www.einfochips.com/blog/understanding-image-recognition-and-its-uses/>. \n",
        "\n",
        "      More, V., Wagh, A. 2012, ‘Improved Fisher face approach for human recognition system using facial biometrics’, International Journal of Information and Communication Technology Research, vol. 2, viewed 27 August 2019, <https://pdfs.semanticscholar.org/035e/5672b94dde7c3f8802eac4ae2cf317b35acf.pdf>. \n",
        "\n",
        "      Swets, D.L., Weng, J. 1996, 'sing discriminative eigenfeatures for image retrieval', IEEE Transactions on Pattern Analysis and Machine Intelligence, vol 10, issue 8, pp. 831-836\n",
        "\n",
        "      Yang, M., Zhang, L., Feng, X., & Zhang D. 2011, “Fisher discrimination dictionary learning for sparse representation’, IEEE, Barcelona, Spain, pp. 543-550. \n"
      ]
    }
  ]
}