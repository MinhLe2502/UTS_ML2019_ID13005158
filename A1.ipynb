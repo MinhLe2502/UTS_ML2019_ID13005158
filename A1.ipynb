{
  "nbformat": 4,
  "nbformat_minor": 0,
  "metadata": {
    "colab": {
      "name": "A1.ipynb",
      "version": "0.3.2",
      "provenance": [],
      "collapsed_sections": [],
      "include_colab_link": true
    },
    "kernelspec": {
      "name": "python3",
      "display_name": "Python 3"
    }
  },
  "cells": [
    {
      "cell_type": "markdown",
      "metadata": {
        "id": "view-in-github",
        "colab_type": "text"
      },
      "source": [
        "<a href=\"https://colab.research.google.com/github/MinhLe2502/UTS_ML2019_ID13005158/blob/master/A1.ipynb\" target=\"_parent\"><img src=\"https://colab.research.google.com/assets/colab-badge.svg\" alt=\"Open In Colab\"/></a>"
      ]
    },
    {
      "cell_type": "markdown",
      "metadata": {
        "id": "B7PS0YcyvSrY",
        "colab_type": "text"
      },
      "source": [
        "Eigenfaces vs. Fisherfaces: Recognition Using Class Specific Linear Projection\n"
      ]
    },
    {
      "cell_type": "markdown",
      "metadata": {
        "id": "MazdlgQwvbBW",
        "colab_type": "text"
      },
      "source": [
        "**Introduction**"
      ]
    },
    {
      "cell_type": "markdown",
      "metadata": {
        "id": "uV15r4envevC",
        "colab_type": "text"
      },
      "source": [
        "The article: “Eigenfaces vs. Fisherfaces: Recognition Using Class Specific Linear Projection” was written by Peter N. Belhumeur, Joao P. Hespanha, and David J. Kriegman in 1997, which was mainly focus on PCA / LDA method in image processing.\n",
        "The PCA / LDA method represent for using the seen data to solve the unseen data. The method looks for a transformation of the data into some space, in which the distance is more “meaningful”.\n"
      ]
    },
    {
      "cell_type": "markdown",
      "metadata": {
        "id": "tWOt4YHDvh9C",
        "colab_type": "text"
      },
      "source": [
        "**Content**"
      ]
    },
    {
      "cell_type": "markdown",
      "metadata": {
        "id": "hrKSGU1AvjtF",
        "colab_type": "text"
      },
      "source": [
        "The article focused on a new approach for face recognition, the new approach was unaffected by different human expression or different in intensity, direction and number of light sources in lighting. To be able to create this new approach, the author had stated a problem “Given a set of face images  labelled with the person’s identity (the learning set) and an unlabelled set of faces images from the same group of people (the test set), identify each person in the test images.” To solve the problem, the researchers use two different data set.\n",
        "\n",
        "To solve the problem, the author had proposed four different methods which is nearest neighbour classifier, eigenfaces method also known as Karhuen-Loeve method, linear subspace algorithm and fisherfaces method combine with their own property and advantage and disadvantage of each method.\n",
        "  \n",
        "In addition, the author also presented and discussed each of the aforementioned face recognition techniques using two different datasets. The first dataset was from the Harvard Robotics Laboratory, the dataset containing five subsets, the five subsets contained image which was taken from a fixed viewpoint but with different light source intensity and direction, sample images from each subset are show in figure 1. The second dataset was constructed at Yale with image taken from the same angle but with different face expression and lighting, sample image from the second dataset are show in figure 2.\n",
        "\n",
        "The article focused on using different kind of method on different type of dataset to estimate the error rate of each method in each subset, then from the error rate we can see that the main challenge is the different in lighting direction and intensity. With the same lighting direction and intensity, all method performed well with the image in the in the test set which is similar to the data in the training set. The author had evaluated the Fisherface method which had the lowest error rate over different in lighting direction. However, the authors were still unclear if the Fisherface is able to operate in large database. To solve the problem the author had stated that new method was needed to recognition image with all possible illumination condition. \n"
      ]
    },
    {
      "cell_type": "code",
      "metadata": {
        "id": "wbPyGktQv3nQ",
        "colab_type": "code",
        "colab": {}
      },
      "source": [
        ""
      ],
      "execution_count": 0,
      "outputs": []
    }
  ]
}