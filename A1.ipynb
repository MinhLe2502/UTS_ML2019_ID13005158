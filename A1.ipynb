{
  "nbformat": 4,
  "nbformat_minor": 0,
  "metadata": {
    "colab": {
      "name": "A1.ipynb",
      "version": "0.3.2",
      "provenance": [],
      "collapsed_sections": [],
      "include_colab_link": true
    },
    "kernelspec": {
      "name": "python3",
      "display_name": "Python 3"
    }
  },
  "cells": [
    {
      "cell_type": "markdown",
      "metadata": {
        "id": "view-in-github",
        "colab_type": "text"
      },
      "source": [
        "<a href=\"https://colab.research.google.com/github/MinhLe2502/UTS_ML2019_ID13005158/blob/master/A1.ipynb\" target=\"_parent\"><img src=\"https://colab.research.google.com/assets/colab-badge.svg\" alt=\"Open In Colab\"/></a>"
      ]
    },
    {
      "cell_type": "markdown",
      "metadata": {
        "id": "B7PS0YcyvSrY",
        "colab_type": "text"
      },
      "source": [
        "***Eigenfaces vs. Fisherfaces: Recognition Using Class Specific Linear Projection***\n"
      ]
    },
    {
      "cell_type": "markdown",
      "metadata": {
        "id": "MazdlgQwvbBW",
        "colab_type": "text"
      },
      "source": [
        "**Introduction**"
      ]
    },
    {
      "cell_type": "markdown",
      "metadata": {
        "id": "uV15r4envevC",
        "colab_type": "text"
      },
      "source": [
        "       The article: “Eigenfaces vs. Fisherfaces: Recognition Using Class Specific Linear Projection” was written by Peter N. Belhumeur, Joao P. Hespanha, and David J. Kriegman in 1997. The article mainly focused on the newly proposed face recognition algorithm. The aim of the test to demonstrate what are the results the authors had found and what problem they had faced when conducting the experiments. This article had both the positive and negative side.\n",
        "\n"
      ]
    },
    {
      "cell_type": "markdown",
      "metadata": {
        "id": "tWOt4YHDvh9C",
        "colab_type": "text"
      },
      "source": [
        "**Content**"
      ]
    },
    {
      "cell_type": "markdown",
      "metadata": {
        "id": "hrKSGU1AvjtF",
        "colab_type": "text"
      },
      "source": [
        "      In the article, the authors had stated the challenge the researchers had to faced when applying a new algorithm, which is how the algorithm worked under different in lighting direction and facial expression. To be able to solve this problem, the authors had used a set of labelled facial images as the learning set to predicted and unlabeled image set from the same group of people as the test set.\n",
        "\n",
        "      Before experimenting, the authors explained the methods they are going to use in the experiments, which is correlation, eigenfaces, linear subspace and fisherfaces.\n",
        "\n",
        "      Also, the author also presented and discussed each of the aforementioned face recognition techniques using two different datasets. The first dataset was from the Harvard Robotics Laboratory, the dataset containing five subsets, the five subsets contained image which was taken from a fixed viewpoint, but with different light source intensity and direction, sample images from each subset are shown in figure 1. The second dataset was constructed at Yale with images taken from the same angle but with different facial expression and lighting, sample image from the second dataset are shown in figure 2.\n",
        "\n",
        "\n",
        "<img src=\"https://github.com/MinhLe2502/UTS_ML2019_ID13005158/blob/master/1.PNG?raw=true\" height=\"450\" width=\"850\"/>\n",
        "\n",
        "figure 1\n",
        "\n",
        "<img src=\"https://github.com/MinhLe2502/UTS_ML2019_ID13005158/raw/master/2.PNG\" height=\"450\" width=\"850\"/>\n",
        "\n",
        "figure 2\n",
        "\n",
        "      On the Harvard dataset, he performed extrapolating and interpolating experiments. In the extrapolating experiment, the authors used subset 1 as the learning set and subset 1,2 and 3 as the test set. On the other hand, in the interpolation experiment, the authors used subset 1 and 5 as the learning set and test in subset 2, 3 and 4. The result of the experiment can be view in figured 3  and figure 4\n",
        "\n",
        "<img src=\"https://github.com/MinhLe2502/UTS_ML2019_ID13005158/raw/master/3.PNG\" height=\"450\" width=\"850\"/>\n",
        "\n",
        "figure 3\n",
        "\n",
        "<img src=\"https://github.com/MinhLe2502/UTS_ML2019_ID13005158/raw/master/4.PNG\" height=\"450\" width=\"850\"/>\n",
        "\n",
        "figure 4\n",
        "\n",
        "      In conclusion, through the article, the reader can see that the authors are trying to find a new algorithm which can be used in a variation of lighting direction and facial expression. After experimenting, the authors had concluded their finding by proposed the Fisherfaces method, which appeared to be the best at face recognition with variation in lighting and facial expression. However, the authors also stated that the proposed algorithm might be used in a variation of lighting direction, but the algorithm may likely to break down under extreme lighting conditions."
      ]
    },
    {
      "cell_type": "markdown",
      "metadata": {
        "id": "VuA37P0hGf7x",
        "colab_type": "text"
      },
      "source": [
        "**Innovation**"
      ]
    },
    {
      "cell_type": "markdown",
      "metadata": {
        "id": "fIrW27L0Gj3D",
        "colab_type": "text"
      },
      "source": [
        ""
      ]
    },
    {
      "cell_type": "markdown",
      "metadata": {
        "id": "bWrbF1J2Gj_r",
        "colab_type": "text"
      },
      "source": [
        "**Technical Quality**"
      ]
    },
    {
      "cell_type": "markdown",
      "metadata": {
        "id": "hI6umOIbGmrZ",
        "colab_type": "text"
      },
      "source": [
        "      The article had proved to be a good quality paper through many different aspects. \n",
        "\n",
        "      Firstly, the quality of the paper is demonstrated through the experiments. The authors had conducted two experiments. The first experiment conducted with the Harvard dataset, the dataset contains 5 subsets, each subset had different lighting. The second experiment conducted with the Yale dataset; however, in the second experiment, the author conducted not only with the difference in lighting but also with variation in facial expression. Through using the learning set information, combine with two experiments, the author had acquired the error rate on the test set.\n",
        "\n",
        "      Secondly, to let the reader be able to understand and replicate the experiment, the author had carefully instructed how the image should be processed and procedure for a different method.\n",
        "\n",
        "      Also, the result which was drawn out from the two experiments was the error rate of the test set based on the learning set. A comparison was made between the result of each method in each experiment; through the comparison, the reader can see which test is better and more appropriate for image recognition. Although the author only conducted only two experiments, in each experiment, the images are under different lighting condition, combine with different facial expression and glasses recognition, which made the author’s result was are highly persuasive.\n"
      ]
    },
    {
      "cell_type": "markdown",
      "metadata": {
        "id": "rHSLoz-JHAVq",
        "colab_type": "text"
      },
      "source": [
        "**Application and X-factor**"
      ]
    },
    {
      "cell_type": "markdown",
      "metadata": {
        "id": "Um6YvumjHEAR",
        "colab_type": "text"
      },
      "source": [
        "      The proposed Fisherfaces algorithm is appropriate due to the method consider each pixel of the image as a coordinate in linear subspace, which is considered to be appropriate for face recognition. In addition, besides face recognition, Fisherfaces method can be used in a wide variation area such as autonomous vehicles which use the image from a learning set to identify activities on the road to determine which action should be executed, furthermore, the method can be used to monitor forest activity by using the original forest as a learning set and monitor which happen at each coordinate to prevent forest fires and poaching.\n",
        "      \n",
        "      Although the Fisherfaces method had the lowest error, the error rate can be further reduced by using facial biometrics. To use facial biometrics, we have to calculate the Euclidean distance matrix between vectors of the training set, set the value of diagonal elements to infinity by placing a sizeable numeric value, then sort distance matrix in ascending order\n"
      ]
    },
    {
      "cell_type": "markdown",
      "metadata": {
        "id": "ij6IMAAIHYNu",
        "colab_type": "text"
      },
      "source": [
        "**Presentation**"
      ]
    },
    {
      "cell_type": "markdown",
      "metadata": {
        "id": "DRG_wVQgHk7g",
        "colab_type": "text"
      },
      "source": [
        "The article's presentation is critiqued on many different aspects such as presentation style, the depth of the author’s argument and how easy to follow the argument combine with the clarity of the presentation. Throughout the paper, the authors had summary all of the critical information and thoroughly explained each of the information and the experiment's procedure, which make it easy for the reader to follow the argument. Also, by dividing the information into different sections, the reader can easily follow the information the author wanted to deliver, which make the paper had an exquisite presentation style. Furthermore, to support their argument, the author always gives concrete evidence to support their argument. In conclusion, the paper contained a depth argument, but with an exquisite style of presentation, the reader can easily follow the argument and understand what the author wants to deliver."
      ]
    }
  ]
}